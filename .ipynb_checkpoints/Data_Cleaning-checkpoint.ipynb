{
 "cells": [
  {
   "cell_type": "code",
   "execution_count": 2,
   "id": "7ab2a074-1a77-4510-9b48-e107101a7b31",
   "metadata": {
    "panel-layout": {
     "height": 0,
     "visible": true,
     "width": 100
    }
   },
   "outputs": [
    {
     "name": "stdout",
     "output_type": "stream",
     "text": [
      "Data is Cleaned Successfully...\n"
     ]
    }
   ],
   "source": [
    "import json\n",
    "\n",
    "def clean_data(data):\n",
    "    # Remove users with missing names \n",
    "    data[\"users\"] = [user for user in data[\"users\"] if user [\"name\"].strip()]\n",
    "    \n",
    "    # Remove duplicate friends\n",
    "    for user in data[\"users\"]:\n",
    "        user[\"friends\"] = list(set(user[\"friends\"]))\n",
    "    \n",
    "    # Remove inactive users\n",
    "    data[\"users\"] = [user for user in data[\"users\"] if user ['friends'] or user ['liked_pages']]\n",
    "\n",
    "    # Remove duplicate pages\n",
    "    unique_pages = {}\n",
    "    for page in data['pages']:\n",
    "        unique_pages[page['id']] = page\n",
    "    data['pages'] = list(unique_pages.values())\n",
    "        \n",
    "    return data\n",
    "\n",
    "#Load the data .\n",
    "data = json.load (open(\"data2.json\"))\n",
    "data = clean_data(data)\n",
    "json.dump(data, open(\"Cleaned data2.json\", \"w\"), indent=4)\n",
    "print (\"Data is Cleaned Successfully...\")"
   ]
  },
  {
   "cell_type": "code",
   "execution_count": null,
   "id": "1679ceaf-4507-47b3-b778-1fcf0c4cc2ac",
   "metadata": {},
   "outputs": [],
   "source": []
  }
 ],
 "metadata": {
  "kernelspec": {
   "display_name": "Python 3 (ipykernel)",
   "language": "python",
   "name": "python3"
  },
  "language_info": {
   "codemirror_mode": {
    "name": "ipython",
    "version": 3
   },
   "file_extension": ".py",
   "mimetype": "text/x-python",
   "name": "python",
   "nbconvert_exporter": "python",
   "pygments_lexer": "ipython3",
   "version": "3.12.7"
  },
  "panel-cell-order": [
   "7ab2a074-1a77-4510-9b48-e107101a7b31"
  ]
 },
 "nbformat": 4,
 "nbformat_minor": 5
}
