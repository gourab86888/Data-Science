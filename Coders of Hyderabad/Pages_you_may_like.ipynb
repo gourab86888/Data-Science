{
 "cells": [
  {
   "cell_type": "code",
   "execution_count": 12,
   "id": "1d6db1c4-8256-41e7-bb7a-b23ce70b95a1",
   "metadata": {},
   "outputs": [
    {
     "name": "stdout",
     "output_type": "stream",
     "text": [
      "[(103, 1), (101, 0), (102, 0), (104, 0), (105, 0), (106, 0), (107, 0), (109, 0), (110, 0), (111, 0), (112, 0), (113, 0), (114, 0), (115, 0), (116, 0), (118, 0), (119, 0), (120, 0), (121, 0), (122, 0), (123, 0), (124, 0), (125, 0), (126, 0), (127, 0)]\n"
     ]
    }
   ],
   "source": [
    "import json\n",
    "\n",
    "# Load the data\n",
    "def load_data(filename):\n",
    "    with open(filename, \"r\") as f:\n",
    "        return json.load(f)\n",
    "\n",
    "# Function to find pages a user might like based on intrests\n",
    "def find_pages_you_might_like(user_id, data):\n",
    "    # Dictionary to shore user interactions with pages\n",
    "    user_pages = {}\n",
    "\n",
    "    # Populate the dictionary\n",
    "    for user in data['users']:\n",
    "        user_pages[user['id']] = set(user['liked_pages'])\n",
    "\n",
    "    #If user not found , return empty list.\n",
    "    if user_id not in user_pages:\n",
    "        return []\n",
    "\n",
    "    user_liked_pages = user_pages[user_id]\n",
    "    page_suggestion = {}\n",
    "\n",
    "    for other_user, pages in user_pages.items():\n",
    "        if other_user != user_id:\n",
    "            shared_pages = user_liked_pages.intersection(pages)\n",
    "        for page in pages:\n",
    "            if page not in user_liked_pages:\n",
    "                page_suggestion[page] = page_suggestion.get(page, 0) + len(shared_pages)\n",
    "\n",
    "    sorted_pages = sorted(page_suggestion.items() , key=lambda x:x[1], reverse=True)\n",
    "    return [(page_id, score) for page_id, score in sorted_pages]\n",
    "\n",
    "data=load_data(\"massive_data.json\")\n",
    "user_id= 17\n",
    "page_recommendation = find_pages_you_might_like (user_id, data)\n",
    "print (page_recommendation)"
   ]
  },
  {
   "cell_type": "code",
   "execution_count": null,
   "id": "3f17e5df-6fa7-4a45-951b-4cab086a969d",
   "metadata": {},
   "outputs": [],
   "source": []
  }
 ],
 "metadata": {
  "kernelspec": {
   "display_name": "Python 3 (ipykernel)",
   "language": "python",
   "name": "python3"
  },
  "language_info": {
   "codemirror_mode": {
    "name": "ipython",
    "version": 3
   },
   "file_extension": ".py",
   "mimetype": "text/x-python",
   "name": "python",
   "nbconvert_exporter": "python",
   "pygments_lexer": "ipython3",
   "version": "3.12.7"
  }
 },
 "nbformat": 4,
 "nbformat_minor": 5
}
