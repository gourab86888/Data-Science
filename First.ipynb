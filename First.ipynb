{
 "cells": [
  {
   "cell_type": "code",
   "execution_count": 1,
   "id": "8a224101-a3c0-4f09-9cbe-0073c7f1e92f",
   "metadata": {},
   "outputs": [],
   "source": [
    "import json\n"
   ]
  },
  {
   "cell_type": "code",
   "execution_count": 2,
   "id": "7346463f-9cce-4503-9e07-04d2db5e83ef",
   "metadata": {},
   "outputs": [],
   "source": [
    "# Lets Write a function to loaad the data..\n",
    "def load_data(filename):\n",
    "    with open (filename, \"r\") as f:\n",
    "        data=json.load(f)\n",
    "        return data"
   ]
  },
  {
   "cell_type": "code",
   "execution_count": 3,
   "id": "a292261a-e926-4e10-8e7f-f11e9ab259a9",
   "metadata": {},
   "outputs": [],
   "source": [
    "data = load_data(\"data.json\")"
   ]
  },
  {
   "cell_type": "code",
   "execution_count": 4,
   "id": "28b6181f-7d00-4c40-8382-c3945c5abf5c",
   "metadata": {},
   "outputs": [
    {
     "data": {
      "text/plain": [
       "{'users': [{'id': 1, 'name': 'Amit', 'friends': [2, 3], 'liked_pages': [101]},\n",
       "  {'id': 2, 'name': 'Priya', 'friends': [1, 4], 'liked_pages': [102]},\n",
       "  {'id': 3, 'name': 'Rahul', 'friends': [1], 'liked_pages': [101, 103]},\n",
       "  {'id': 4, 'name': 'Sara', 'friends': [2], 'liked_pages': [104]}],\n",
       " 'pages': [{'id': 101, 'name': 'Python Developers'},\n",
       "  {'id': 102, 'name': 'Data Science Enthusiasts'},\n",
       "  {'id': 103, 'name': 'AI & ML Community'},\n",
       "  {'id': 104, 'name': 'Web Dev Hub'}]}"
      ]
     },
     "execution_count": 4,
     "metadata": {},
     "output_type": "execute_result"
    }
   ],
   "source": [
    "data"
   ]
  },
  {
   "cell_type": "code",
   "execution_count": 5,
   "id": "e7dee9a7-96bc-42b1-bf75-66759dc688ae",
   "metadata": {},
   "outputs": [
    {
     "data": {
      "text/plain": [
       "dict"
      ]
     },
     "execution_count": 5,
     "metadata": {},
     "output_type": "execute_result"
    }
   ],
   "source": [
    "type (data)\n"
   ]
  },
  {
   "cell_type": "code",
   "execution_count": 10,
   "id": "00906045-f12a-4684-8ef6-8fa61deaef72",
   "metadata": {},
   "outputs": [
    {
     "name": "stdout",
     "output_type": "stream",
     "text": [
      "Users and their Connections :\n",
      "Id:1 - Amit is friends with [2, 3] and Liked pages are [101]\n",
      "Id:2 - Priya is friends with [1, 4] and Liked pages are [102]\n",
      "Id:3 - Rahul is friends with [1] and Liked pages are [101, 103]\n",
      "Id:4 - Sara is friends with [2] and Liked pages are [104]\n",
      "\n",
      " Pages information\n",
      "101:Python Developers\n",
      "102:Data Science Enthusiasts\n",
      "103:AI & ML Community\n",
      "104:Web Dev Hub\n"
     ]
    }
   ],
   "source": [
    "#Write a function to display the users and their connections.\n",
    "def display_users(data):\n",
    "    print (\"Users and their Connections :\")\n",
    "    for user in data['users']:\n",
    "        print(f\"Id:{user['id']} - {user['name']} is friends with {user['friends']} and Liked pages are {user['liked_pages']}\")\n",
    "\n",
    "    print (\"\\n Pages information\")\n",
    "    for page in data['pages']:\n",
    "        print (f\"{page['id']}:{page['name']}\")\n",
    "\n",
    "display_users(data)\n"
   ]
  },
  {
   "cell_type": "code",
   "execution_count": null,
   "id": "8a802c9f-fe3a-4e0f-8425-38c44048a5ce",
   "metadata": {},
   "outputs": [],
   "source": []
  }
 ],
 "metadata": {
  "kernelspec": {
   "display_name": "Python 3 (ipykernel)",
   "language": "python",
   "name": "python3"
  },
  "language_info": {
   "codemirror_mode": {
    "name": "ipython",
    "version": 3
   },
   "file_extension": ".py",
   "mimetype": "text/x-python",
   "name": "python",
   "nbconvert_exporter": "python",
   "pygments_lexer": "ipython3",
   "version": "3.13.4"
  }
 },
 "nbformat": 4,
 "nbformat_minor": 5
}
